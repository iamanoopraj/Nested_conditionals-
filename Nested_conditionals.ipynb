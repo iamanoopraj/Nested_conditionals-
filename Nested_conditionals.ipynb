{
 "cells": [
  {
   "cell_type": "code",
   "execution_count": 1,
   "id": "569eaf5f",
   "metadata": {},
   "outputs": [],
   "source": [
    "fruits = ['Apple','Banana','Cherry']"
   ]
  },
  {
   "cell_type": "code",
   "execution_count": 2,
   "id": "abeca806",
   "metadata": {},
   "outputs": [
    {
     "data": {
      "text/plain": [
       "True"
      ]
     },
     "execution_count": 2,
     "metadata": {},
     "output_type": "execute_result"
    }
   ],
   "source": [
    "'Apple' in fruits"
   ]
  },
  {
   "cell_type": "code",
   "execution_count": 3,
   "id": "7154e925",
   "metadata": {},
   "outputs": [
    {
     "data": {
      "text/plain": [
       "False"
      ]
     },
     "execution_count": 3,
     "metadata": {},
     "output_type": "execute_result"
    }
   ],
   "source": [
    "'apple' in fruits"
   ]
  },
  {
   "cell_type": "code",
   "execution_count": 4,
   "id": "afbf1709",
   "metadata": {},
   "outputs": [
    {
     "data": {
      "text/plain": [
       "True"
      ]
     },
     "execution_count": 4,
     "metadata": {},
     "output_type": "execute_result"
    }
   ],
   "source": [
    "'Apple' in fruits or 'Cherry' in fruits and 'Coconut' in fruits"
   ]
  },
  {
   "cell_type": "code",
   "execution_count": 5,
   "id": "da0f20cd",
   "metadata": {},
   "outputs": [
    {
     "data": {
      "text/plain": [
       "True"
      ]
     },
     "execution_count": 5,
     "metadata": {},
     "output_type": "execute_result"
    }
   ],
   "source": [
    "'Apple' in fruits and 'Cherry' in fruits or 'Coconut' in fruits"
   ]
  },
  {
   "cell_type": "code",
   "execution_count": 6,
   "id": "f536412a",
   "metadata": {},
   "outputs": [
    {
     "data": {
      "text/plain": [
       "True"
      ]
     },
     "execution_count": 6,
     "metadata": {},
     "output_type": "execute_result"
    }
   ],
   "source": [
    "'Apple' in fruits and ('Cherry' in fruits or 'Coconut' in fruits) and 'Banana' in fruits"
   ]
  },
  {
   "cell_type": "code",
   "execution_count": 7,
   "id": "c81efcf4",
   "metadata": {},
   "outputs": [
    {
     "data": {
      "text/plain": [
       "True"
      ]
     },
     "execution_count": 7,
     "metadata": {},
     "output_type": "execute_result"
    }
   ],
   "source": [
    "'Apple' in fruits and ('Cherry' in fruits and 'Coconut' in fruits) or 'Banana' in fruits"
   ]
  },
  {
   "cell_type": "code",
   "execution_count": 8,
   "id": "c7205711",
   "metadata": {},
   "outputs": [
    {
     "data": {
      "text/plain": [
       "True"
      ]
     },
     "execution_count": 8,
     "metadata": {},
     "output_type": "execute_result"
    }
   ],
   "source": [
    "'Apple' in fruits or ('Cherry' in fruits or 'Coconut' in fruits and 'Banana' in fruits)"
   ]
  },
  {
   "cell_type": "code",
   "execution_count": 9,
   "id": "b9b53eb4",
   "metadata": {},
   "outputs": [],
   "source": [
    "fruits = ['Apple','Banana','Cherry','Grapes','Kiwi']"
   ]
  },
  {
   "cell_type": "code",
   "execution_count": 10,
   "id": "949f6da0",
   "metadata": {},
   "outputs": [
    {
     "data": {
      "text/plain": [
       "False"
      ]
     },
     "execution_count": 10,
     "metadata": {},
     "output_type": "execute_result"
    }
   ],
   "source": [
    "('Kiwi' in fruits and 10>11 ) or 10<5 and 'Cherry' in fruits"
   ]
  },
  {
   "cell_type": "code",
   "execution_count": 11,
   "id": "8968907e",
   "metadata": {},
   "outputs": [
    {
     "data": {
      "text/plain": [
       "False"
      ]
     },
     "execution_count": 11,
     "metadata": {},
     "output_type": "execute_result"
    }
   ],
   "source": [
    "'Apple' not in fruits"
   ]
  },
  {
   "cell_type": "code",
   "execution_count": 12,
   "id": "68f53785",
   "metadata": {},
   "outputs": [
    {
     "data": {
      "text/plain": [
       "True"
      ]
     },
     "execution_count": 12,
     "metadata": {},
     "output_type": "execute_result"
    }
   ],
   "source": [
    "'apple' not in fruits"
   ]
  },
  {
   "cell_type": "code",
   "execution_count": 13,
   "id": "8a64dbfa",
   "metadata": {},
   "outputs": [
    {
     "data": {
      "text/plain": [
       "False"
      ]
     },
     "execution_count": 13,
     "metadata": {},
     "output_type": "execute_result"
    }
   ],
   "source": [
    "not True"
   ]
  },
  {
   "cell_type": "code",
   "execution_count": 14,
   "id": "002538b2",
   "metadata": {},
   "outputs": [
    {
     "data": {
      "text/plain": [
       "True"
      ]
     },
     "execution_count": 14,
     "metadata": {},
     "output_type": "execute_result"
    }
   ],
   "source": [
    "not False"
   ]
  },
  {
   "cell_type": "code",
   "execution_count": 15,
   "id": "2a3c9533",
   "metadata": {},
   "outputs": [
    {
     "data": {
      "text/plain": [
       "1"
      ]
     },
     "execution_count": 15,
     "metadata": {},
     "output_type": "execute_result"
    }
   ],
   "source": [
    "int(True)"
   ]
  },
  {
   "cell_type": "code",
   "execution_count": 16,
   "id": "56b195de",
   "metadata": {},
   "outputs": [
    {
     "data": {
      "text/plain": [
       "True"
      ]
     },
     "execution_count": 16,
     "metadata": {},
     "output_type": "execute_result"
    }
   ],
   "source": [
    "bool(1)"
   ]
  },
  {
   "cell_type": "code",
   "execution_count": 17,
   "id": "f3980e3e",
   "metadata": {},
   "outputs": [
    {
     "data": {
      "text/plain": [
       "False"
      ]
     },
     "execution_count": 17,
     "metadata": {},
     "output_type": "execute_result"
    }
   ],
   "source": [
    "bool(0)"
   ]
  },
  {
   "cell_type": "code",
   "execution_count": 18,
   "id": "27d48234",
   "metadata": {},
   "outputs": [
    {
     "data": {
      "text/plain": [
       "True"
      ]
     },
     "execution_count": 18,
     "metadata": {},
     "output_type": "execute_result"
    }
   ],
   "source": [
    "bool(-5)"
   ]
  },
  {
   "cell_type": "code",
   "execution_count": 19,
   "id": "c6bad456",
   "metadata": {},
   "outputs": [
    {
     "name": "stdin",
     "output_type": "stream",
     "text": [
      "Age:  75\n"
     ]
    },
    {
     "name": "stdout",
     "output_type": "stream",
     "text": [
      "Health Certificate required..\n"
     ]
    }
   ],
   "source": [
    "age = int(input('Age: '))\n",
    "\n",
    "if age >= 18 and age <50:\n",
    "    print('Eligible for Driving License')\n",
    "    \n",
    "elif age>=50:\n",
    "    print('Health Certificate required..')\n",
    "\n",
    "else:\n",
    "    print('Not Eligible for Driving License')"
   ]
  },
  {
   "cell_type": "code",
   "execution_count": 20,
   "id": "234e4bb5",
   "metadata": {},
   "outputs": [
    {
     "name": "stdin",
     "output_type": "stream",
     "text": [
      "Age:  75\n"
     ]
    },
    {
     "name": "stdout",
     "output_type": "stream",
     "text": [
      "Health Certificate required..\n"
     ]
    }
   ],
   "source": [
    "age = int(input('Age: '))\n",
    "\n",
    "if age >= 18 :\n",
    "    \n",
    "    if age>50:\n",
    "        print('Health Certificate required..')\n",
    "    else:\n",
    "        print('Eligible for Driving License')\n",
    "\n",
    "else:\n",
    "    print('Not Eligible for Driving License')"
   ]
  },
  {
   "cell_type": "code",
   "execution_count": 25,
   "id": "42492cfb",
   "metadata": {},
   "outputs": [
    {
     "name": "stdout",
     "output_type": "stream",
     "text": [
      "Age: 30\n",
      "Eligible for Driving License\n"
     ]
    }
   ],
   "source": [
    "age = int(input('Age: '))\n",
    "\n",
    "if age >= 18 :\n",
    "    \n",
    "    if age>50:\n",
    "        print('Health Certificate required..')\n",
    "        \n",
    "    elif age >= 18 and age<50:\n",
    "        print('Eligible for Driving License')\n",
    "\n",
    "else:\n",
    "    \n",
    "    print('Not Eligible for Driving License')"
   ]
  },
  {
   "cell_type": "markdown",
   "id": "9a930fbd",
   "metadata": {},
   "source": [
    "# Weather Type\n",
    "\n",
    "0 - 25 : Cold Weather\n",
    "\n",
    "Between 25 and 30 : Normal Weather\n",
    "\n",
    "Between 30 and 40: Hot Weather\n",
    "\n",
    "Between 40 and 50: Extremely Hot Weather\n",
    "\n",
    "Above 50: Invalid Temperature"
   ]
  },
  {
   "cell_type": "markdown",
   "id": "c682bce1",
   "metadata": {},
   "source": [
    "# Triangle Type\n",
    "\n",
    " \n",
    "All sides Equal: Equilateral\n",
    "\n",
    "Two sides equal: Isosceles\n",
    "\n",
    "No sides equal: Scalene"
   ]
  },
  {
   "cell_type": "markdown",
   "id": "64d5c7df",
   "metadata": {},
   "source": [
    "# Leap Year:\n",
    "\n",
    "Conditions for Leap Year:\n",
    "\n",
    "The year should be __divisible by 4__, except when it is the end of the century year (ending with 00). Then it should be __divisible with 400__."
   ]
  },
  {
   "cell_type": "markdown",
   "id": "21074c78",
   "metadata": {},
   "source": [
    "# Grading System:\n",
    "\n",
    "90-100: Grade A\n",
    "\n",
    "75-89: Grade B\n",
    "\n",
    "60-74: Grade C\n",
    "\n",
    "35-59: Grade D\n",
    "\n",
    "Below 35: Grade F"
   ]
  },
  {
   "cell_type": "markdown",
   "id": "abe42609",
   "metadata": {},
   "source": [
    "# Check for Odd and Even\n",
    "\n",
    "If the number is divisible by 2 (i.e., remainder is 0) then it is even."
   ]
  },
  {
   "cell_type": "code",
   "execution_count": null,
   "id": "b4e19684",
   "metadata": {},
   "outputs": [],
   "source": []
  }
 ],
 "metadata": {
  "kernelspec": {
   "display_name": "Python 3 (ipykernel)",
   "language": "python",
   "name": "python3"
  },
  "language_info": {
   "codemirror_mode": {
    "name": "ipython",
    "version": 3
   },
   "file_extension": ".py",
   "mimetype": "text/x-python",
   "name": "python",
   "nbconvert_exporter": "python",
   "pygments_lexer": "ipython3",
   "version": "3.11.7"
  },
  "widgets": {
   "application/vnd.jupyter.widget-state+json": {
    "state": {},
    "version_major": 2,
    "version_minor": 0
   }
  }
 },
 "nbformat": 4,
 "nbformat_minor": 5
}
